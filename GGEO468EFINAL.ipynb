{
 "cells": [
  {
   "cell_type": "markdown",
   "metadata": {},
   "source": [
    "# Calculating and Observing surface water Differences at Kızılırmak\n",
    "\n",
    "\n",
    "\n"
   ]
  },
  {
   "cell_type": "markdown",
   "metadata": {},
   "source": [
    "In the project, first of all, Landsat images were used to produce the change of Kızılırmak River between 1985-2019 as a timelapse and an overview was presented.Then, the Image with the lowest cloudiness was selected using USGS Landsat 8 Surface Reflectance Tier 1 images. The reflection values and other properties of the selected image were examined.Since The Normalized Difference Water Index [ NDWI (Green, NIR) ] is widely and successfully used in surface water mass detection and mapping, it was decided to apply it to the selected image. After showing how the indexes were applied, 2 Landsat 8 Surface Reflectance Tier 1 images were selected according to the cloudiness ratio (when I ran the codes, I obtained the images dated 2017-07-13 and 2019-11-08) NDWI indexes were applied and then masked with the Thresholding method. Water pixels in different images were obtained. Pixels were converted from raster to vector data and their differences were calculated in km. The Kızılırmak River, which was 161 km in the image dated 2017-07-13, was calculated as 156 km in the image dated 2019-11-08. The change over the years was determined in km and displayed graphically."
   ]
  },
  {
   "cell_type": "code",
   "execution_count": 629,
   "metadata": {},
   "outputs": [],
   "source": [
    "import ee\n",
    "import geemap\n",
    "import os"
   ]
  },
  {
   "cell_type": "markdown",
   "metadata": {},
   "source": [
    "# When starting the project, an interactive map was created first.\n",
    "\n",
    "When the following code is run, the area boundaries to be studied will appear on the map, but the Kızılırmak region must be selected on the map using the Drawing tool."
   ]
  },
  {
   "cell_type": "code",
   "execution_count": 563,
   "metadata": {
    "scrolled": false
   },
   "outputs": [
    {
     "data": {
      "application/vnd.jupyter.widget-view+json": {
       "model_id": "a3f60426dbad42dea53478db09bdef1f",
       "version_major": 2,
       "version_minor": 0
      },
      "text/plain": [
       "Map(center=[41, 35], controls=(WidgetControl(options=['position', 'transparent_bg'], widget=HBox(children=(Tog…"
      ]
     },
     "metadata": {},
     "output_type": "display_data"
    }
   ],
   "source": [
    "Map = geemap.Map(center=[41, 35], zoom=9)\n",
    "Map.add_basemap('HYBRID')\n",
    "Map"
   ]
  },
  {
   "cell_type": "markdown",
   "metadata": {},
   "source": [
    "\n",
    "You should draw a rectangle that containts Kızılırmak.Thus, with the following 2 codes, the wrong band combination will be applied on the selected area and the change of Kızılırmak will be observed over the years."
   ]
  },
  {
   "cell_type": "code",
   "execution_count": 564,
   "metadata": {},
   "outputs": [
    {
     "data": {
      "text/plain": [
       "<ee.feature.Feature at 0x24a2df67eb0>"
      ]
     },
     "execution_count": 564,
     "metadata": {},
     "output_type": "execute_result"
    }
   ],
   "source": [
    "Map.draw_last_feature"
   ]
  },
  {
   "cell_type": "code",
   "execution_count": 565,
   "metadata": {},
   "outputs": [],
   "source": [
    "roi = Map.draw_last_feature"
   ]
  },
  {
   "cell_type": "markdown",
   "metadata": {},
   "source": [
    "# For creating Landsat timelapse from 1985 to 2019 of Kızılırmak region,\n",
    "NIR - SWIR1 - RED False-Color Band Combination is used for observing water dynamics with below code."
   ]
  },
  {
   "cell_type": "code",
   "execution_count": 570,
   "metadata": {},
   "outputs": [
    {
     "name": "stdout",
     "output_type": "stream",
     "text": [
      "Generating URL...\n",
      "Downloading GIF image from https://earthengine.googleapis.com/v1alpha/projects/earthengine-legacy/videoThumbnails/a5ae75caa65d0fec897d3a3ecbaf9923-c31cfee9b559163ce1c5cc1b6e7a6477:getPixels\n",
      "Please wait ...\n",
      "The GIF image has been saved to: C:\\Users\\HP\\Downloads\\landsat_ts_bef.gif\n",
      "Adding animated text to GIF ...\n",
      "Adding GIF to the map ...\n",
      "The timelapse has been added to the map.\n"
     ]
    }
   ],
   "source": [
    "label = 'Surface water dynamics in Kızılırmak'\n",
    "Map.add_landsat_ts_gif(label=label, start_year=1985, bands=['NIR', 'SWIR1', 'Red'], font_color='white', frames_per_second=6, progress_bar_color='blue')"
   ]
  },
  {
   "cell_type": "markdown",
   "metadata": {},
   "source": [
    "# Selecting the best cloud-free image\n",
    "USGS Landsat 8 Surface Reflectance Tier 1 images were used."
   ]
  },
  {
   "cell_type": "code",
   "execution_count": 571,
   "metadata": {
    "scrolled": false
   },
   "outputs": [
    {
     "data": {
      "application/vnd.jupyter.widget-view+json": {
       "model_id": "ba7a5f7c261d49dba0090a8e25291326",
       "version_major": 2,
       "version_minor": 0
      },
      "text/plain": [
       "Map(center=[41.24, 34.87], controls=(WidgetControl(options=['position', 'transparent_bg'], widget=HBox(childre…"
      ]
     },
     "metadata": {},
     "output_type": "display_data"
    }
   ],
   "source": [
    "Map = geemap.Map()\n",
    "Map.add_basemap('HYBRID')\n",
    "Map.setCenter(34.87,41.24, 12)\n",
    "Map\n"
   ]
  },
  {
   "cell_type": "markdown",
   "metadata": {},
   "source": [
    " Placed a marker inside Kızılırmak and defined an ee.Geometry() as an ROI as shown below code.\n",
    " If you want to place a marker please switch roi = Map.user_roi\n",
    "print(roi.getInfo()) code to roi = ee.Geometry.Point(34.858907, 41.264053) and place a mark on map"
   ]
  },
  {
   "cell_type": "code",
   "execution_count": 572,
   "metadata": {},
   "outputs": [],
   "source": [
    "roi = ee.Geometry.Point(34.858907, 41.264053)"
   ]
  },
  {
   "cell_type": "code",
   "execution_count": 573,
   "metadata": {},
   "outputs": [],
   "source": [
    "images = ee.ImageCollection('LANDSAT/LC08/C01/T1_SR') \\\n",
    "    .filterBounds(roi) \\\n",
    "    .filterDate('2015-01-01', '2019-12-31') \\\n",
    "    .sort('CLOUD_COVER')"
   ]
  },
  {
   "cell_type": "markdown",
   "metadata": {},
   "source": [
    "Images filtered the ImageCollection by roi and date, and then sort by cloud cover."
   ]
  },
  {
   "cell_type": "markdown",
   "metadata": {},
   "source": [
    "For Learning how many Landsat 8 images are available for the study area at the range 2015-2019 below code runned."
   ]
  },
  {
   "cell_type": "code",
   "execution_count": 574,
   "metadata": {},
   "outputs": [
    {
     "name": "stdout",
     "output_type": "stream",
     "text": [
      "88\n"
     ]
    }
   ],
   "source": [
    "print(images.size().getInfo())"
   ]
  },
  {
   "cell_type": "markdown",
   "metadata": {},
   "source": [
    "Since the returned images are already sorted by CLOUD_COVER in ascending order, the first image would be the best cloud-free image. After deciding which one is the best image, False color of Image (NIR-SWIR1-RED) added to the Map."
   ]
  },
  {
   "cell_type": "code",
   "execution_count": 575,
   "metadata": {},
   "outputs": [],
   "source": [
    "best_image = images.first().select(['B1', 'B2', 'B3', 'B4',  'B5', 'B6', 'B7'])\n"
   ]
  },
  {
   "cell_type": "code",
   "execution_count": 576,
   "metadata": {},
   "outputs": [],
   "source": [
    "vis_params = {\n",
    "  'bands': ['B5', 'B6', 'B4'],\n",
    "  'min': 0,\n",
    "  'max': 6000,\n",
    "  'gamma': 1.4,\n",
    "}\n",
    "Map.addLayer(best_image, vis_params, 'Best image')"
   ]
  },
  {
   "cell_type": "markdown",
   "metadata": {},
   "source": [
    "# Getting image properties\n",
    "Image properties were examined to check the pixel values and spectral signature. Also from Toolbar button on map, Plotting and Inspector informations of Image is taken into consideration."
   ]
  },
  {
   "cell_type": "code",
   "execution_count": 577,
   "metadata": {},
   "outputs": [
    {
     "name": "stdout",
     "output_type": "stream",
     "text": [
      "{'type': 'Image', 'bands': [{'id': 'B1', 'data_type': {'type': 'PixelType', 'precision': 'int', 'min': -32768, 'max': 32767}, 'dimensions': [7641, 7761], 'crs': 'EPSG:32636', 'crs_transform': [30, 0, 577485, 0, -30, 4741515]}, {'id': 'B2', 'data_type': {'type': 'PixelType', 'precision': 'int', 'min': -32768, 'max': 32767}, 'dimensions': [7641, 7761], 'crs': 'EPSG:32636', 'crs_transform': [30, 0, 577485, 0, -30, 4741515]}, {'id': 'B3', 'data_type': {'type': 'PixelType', 'precision': 'int', 'min': -32768, 'max': 32767}, 'dimensions': [7641, 7761], 'crs': 'EPSG:32636', 'crs_transform': [30, 0, 577485, 0, -30, 4741515]}, {'id': 'B4', 'data_type': {'type': 'PixelType', 'precision': 'int', 'min': -32768, 'max': 32767}, 'dimensions': [7641, 7761], 'crs': 'EPSG:32636', 'crs_transform': [30, 0, 577485, 0, -30, 4741515]}, {'id': 'B5', 'data_type': {'type': 'PixelType', 'precision': 'int', 'min': -32768, 'max': 32767}, 'dimensions': [7641, 7761], 'crs': 'EPSG:32636', 'crs_transform': [30, 0, 577485, 0, -30, 4741515]}, {'id': 'B6', 'data_type': {'type': 'PixelType', 'precision': 'int', 'min': -32768, 'max': 32767}, 'dimensions': [7641, 7761], 'crs': 'EPSG:32636', 'crs_transform': [30, 0, 577485, 0, -30, 4741515]}, {'id': 'B7', 'data_type': {'type': 'PixelType', 'precision': 'int', 'min': -32768, 'max': 32767}, 'dimensions': [7641, 7761], 'crs': 'EPSG:32636', 'crs_transform': [30, 0, 577485, 0, -30, 4741515]}], 'id': 'LANDSAT/LC08/C01/T1_SR/LC08_176031_20170713', 'version': 1522753295885097, 'properties': {'IMAGE_QUALITY_TIRS': 9, 'CLOUD_COVER': 0.01, 'EARTH_SUN_DISTANCE': 1.016507, 'LANDSAT_ID': 'LC08_L1TP_176031_20170713_20170726_01_T1', 'system:footprint': {'type': 'LinearRing', 'coordinates': [[34.77564702512542, 42.76109633969192], [34.4829026730568, 42.812077235118544], [34.21416884516066, 41.96174178614499], [34.05852624197556, 41.45772265955358], [34.021799417805376, 41.33753525517148], [33.996508782561285, 41.25425620375745], [33.9493002208142, 41.09652070577893], [33.949987487376134, 41.095989400462855], [34.27511088337379, 41.03797490008401], [35.491798355770385, 40.81191139978652], [36.09476459810728, 40.69458073947887], [36.09529742606107, 40.69532497035026], [36.11250179872348, 40.74434109190194], [36.28352914984218, 41.24268313523803], [36.31939113719027, 41.34635524312716], [36.403869300149566, 41.59012329526641], [36.47832787578443, 41.80380123459579], [36.57046828230539, 42.066459559898995], [36.647462104852345, 42.28448820654722], [36.69090687104471, 42.407001991589624], [34.77564702512542, 42.76109633969192]]}, 'CLOUD_COVER_LAND': 0.01, 'GEOMETRIC_RMSE_MODEL': 6.057, 'SR_APP_VERSION': 'LaSRC_1.3.0', 'SATELLITE': 'LANDSAT_8', 'SOLAR_AZIMUTH_ANGLE': 132.090927, 'IMAGE_QUALITY_OLI': 9, 'WRS_PATH': 176, 'system:time_start': 1499934029030, 'SENSING_TIME': '2017-07-13T08:20:29.0283099Z', 'ESPA_VERSION': '2_23_0_1a', 'SOLAR_ZENITH_ANGLE': 26.652885, 'WRS_ROW': 31, 'GEOMETRIC_RMSE_MODEL_Y': 4.481, 'LEVEL1_PRODUCTION_DATE': 1501075507000, 'GEOMETRIC_RMSE_MODEL_X': 4.075, 'system:asset_size': 495109121, 'PIXEL_QA_VERSION': 'generate_pixel_qa_1.6.0', 'system:index': 'LC08_176031_20170713'}}\n"
     ]
    }
   ],
   "source": [
    "print(best_image.getInfo())"
   ]
  },
  {
   "cell_type": "code",
   "execution_count": 578,
   "metadata": {},
   "outputs": [
    {
     "name": "stdout",
     "output_type": "stream",
     "text": [
      "['IMAGE_QUALITY_TIRS', 'CLOUD_COVER', 'system:id', 'EARTH_SUN_DISTANCE', 'LANDSAT_ID', 'system:footprint', 'system:version', 'CLOUD_COVER_LAND', 'GEOMETRIC_RMSE_MODEL', 'SR_APP_VERSION', 'SATELLITE', 'SOLAR_AZIMUTH_ANGLE', 'IMAGE_QUALITY_OLI', 'WRS_PATH', 'system:time_start', 'SENSING_TIME', 'ESPA_VERSION', 'SOLAR_ZENITH_ANGLE', 'WRS_ROW', 'GEOMETRIC_RMSE_MODEL_Y', 'LEVEL1_PRODUCTION_DATE', 'GEOMETRIC_RMSE_MODEL_X', 'system:asset_size', 'PIXEL_QA_VERSION', 'system:index', 'system:bands', 'system:band_names']\n"
     ]
    }
   ],
   "source": [
    "print(best_image.propertyNames().getInfo())"
   ]
  },
  {
   "cell_type": "code",
   "execution_count": 579,
   "metadata": {},
   "outputs": [
    {
     "name": "stdout",
     "output_type": "stream",
     "text": [
      "LANDSAT/LC08/C01/T1_SR/LC08_176031_20170713\n"
     ]
    }
   ],
   "source": [
    "print(best_image.get('system:id').getInfo())"
   ]
  },
  {
   "cell_type": "markdown",
   "metadata": {},
   "source": [
    "After learning parameters of Image and getting the system:id, its added to the Map again."
   ]
  },
  {
   "cell_type": "code",
   "execution_count": 580,
   "metadata": {},
   "outputs": [
    {
     "data": {
      "application/vnd.jupyter.widget-view+json": {
       "model_id": "ba7a5f7c261d49dba0090a8e25291326",
       "version_major": 2,
       "version_minor": 0
      },
      "text/plain": [
       "Map(bottom=392510.0, center=[41.24, 34.87], controls=(WidgetControl(options=['position', 'transparent_bg'], wi…"
      ]
     },
     "metadata": {},
     "output_type": "display_data"
    }
   ],
   "source": [
    "image = ee.Image('LANDSAT/LC08/C01/T1_SR/LC08_176031_20170713')\n",
    "vis_params = {\n",
    "  'bands': ['B5', 'B6', 'B4'],\n",
    "  'min': 0,\n",
    "  'max': 6000,\n",
    "  'gamma': 1.4,\n",
    "}\n",
    "Map.addLayer(image, vis_params, 'image')\n",
    "Map"
   ]
  },
  {
   "cell_type": "code",
   "execution_count": 581,
   "metadata": {
    "scrolled": false
   },
   "outputs": [
    {
     "name": "stdout",
     "output_type": "stream",
     "text": [
      "0.01\n"
     ]
    }
   ],
   "source": [
    "print(best_image.get('CLOUD_COVER').getInfo())"
   ]
  },
  {
   "cell_type": "code",
   "execution_count": 582,
   "metadata": {},
   "outputs": [
    {
     "name": "stdout",
     "output_type": "stream",
     "text": [
      "['B1', 'B2', 'B3', 'B4', 'B5', 'B6', 'B7']\n"
     ]
    }
   ],
   "source": [
    "print(best_image.get('system:band_names').getInfo())"
   ]
  },
  {
   "cell_type": "code",
   "execution_count": 583,
   "metadata": {},
   "outputs": [
    {
     "name": "stdout",
     "output_type": "stream",
     "text": [
      "1499934029030\n"
     ]
    }
   ],
   "source": [
    "print(best_image.get('system:time_start').getInfo())"
   ]
  },
  {
   "cell_type": "code",
   "execution_count": 584,
   "metadata": {},
   "outputs": [
    {
     "name": "stdout",
     "output_type": "stream",
     "text": [
      "2017-07-13\n"
     ]
    }
   ],
   "source": [
    "print(ee.Date(best_image.get('system:time_start')).format('YYYY-MM-dd').getInfo()) #Date of the chosen Image"
   ]
  },
  {
   "cell_type": "code",
   "execution_count": 585,
   "metadata": {},
   "outputs": [
    {
     "name": "stdout",
     "output_type": "stream",
     "text": [
      "WRS_Path=176, WRS_ROW=31\n"
     ]
    }
   ],
   "source": [
    "print(\"WRS_Path={}, WRS_ROW={}\".format(best_image.get('WRS_PATH').getInfo(), best_image.get('WRS_ROW').getInfo()))"
   ]
  },
  {
   "cell_type": "markdown",
   "metadata": {},
   "source": [
    "# The Normalized Difference Water Index (NDWI)\n",
    "\n",
    "It is widely used for monitoring changes on earth related to water content in water bodies on earth observations, It is formulated with green and NIR wavelengths.\n",
    "                   Its formula : ( X(green) - X(NIR) ) / ( X(green) + X(NIR) )"
   ]
  },
  {
   "cell_type": "code",
   "execution_count": 588,
   "metadata": {},
   "outputs": [
    {
     "data": {
      "application/vnd.jupyter.widget-view+json": {
       "model_id": "7142086c931943af87eb29cb053b68ce",
       "version_major": 2,
       "version_minor": 0
      },
      "text/plain": [
       "Map(center=[41, 35], controls=(WidgetControl(options=['position', 'transparent_bg'], widget=HBox(children=(Tog…"
      ]
     },
     "metadata": {},
     "output_type": "display_data"
    }
   ],
   "source": [
    "Map = geemap.Map(center=[41, 35], zoom=9)\n",
    "Map.add_basemap('HYBRID')\n",
    "Map"
   ]
  },
  {
   "cell_type": "markdown",
   "metadata": {},
   "source": [
    "Firstly, false color image of the area with chosen best image is showed with below code."
   ]
  },
  {
   "cell_type": "code",
   "execution_count": 589,
   "metadata": {},
   "outputs": [],
   "source": [
    "image = ee.Image('LANDSAT/LC08/C01/T1_SR/LC08_176031_20170713')\n",
    "vis_params = {\n",
    "  'bands': ['B5', 'B4', 'B3'],\n",
    "  'min': 0,\n",
    "  'max': 6000,\n",
    "  'gamma': 1.4,\n",
    "}\n",
    "Map.addLayer(image, vis_params, 'image')\n",
    "Map.centerObject(image, 8)"
   ]
  },
  {
   "cell_type": "markdown",
   "metadata": {},
   "source": [
    "Please first draw a rectangle on the False color Image that Kızılırmak in it to applying NDWI Index and after, run the below code"
   ]
  },
  {
   "cell_type": "code",
   "execution_count": 590,
   "metadata": {},
   "outputs": [
    {
     "data": {
      "text/plain": [
       "<ee.feature.Feature at 0x24a2db76f40>"
      ]
     },
     "execution_count": 590,
     "metadata": {},
     "output_type": "execute_result"
    }
   ],
   "source": [
    "Map.draw_last_feature"
   ]
  },
  {
   "cell_type": "code",
   "execution_count": 591,
   "metadata": {},
   "outputs": [],
   "source": [
    "rectangle = Map.draw_last_feature"
   ]
  },
  {
   "cell_type": "markdown",
   "metadata": {},
   "source": [
    "And then, Normalized Difference Water Index is applied to the chosen rectangle clip of Image with math formula that applied on Green and NIR bands. Map is updated. In the resulting image, coloring is made and it is shown that the pixels represented in blue are water pixels."
   ]
  },
  {
   "cell_type": "code",
   "execution_count": 592,
   "metadata": {},
   "outputs": [],
   "source": [
    "ndwi_image = image.normalizedDifference(['B3', 'B5'])"
   ]
  },
  {
   "cell_type": "code",
   "execution_count": 593,
   "metadata": {},
   "outputs": [],
   "source": [
    "vis_ndwi = {\n",
    "    'min': -1, \n",
    "    'max': 1,\n",
    "    'palette': ['#ece7f2', '#d0d1e6', '#a6bddb', '#74a9cf', '#3690c0', '#0570b0', '#045a8d', '#023858']\n",
    "}\n",
    "Map.addLayer(ndwi_image.clip(rectangle), vis_ndwi, 'NDWI image')"
   ]
  },
  {
   "cell_type": "markdown",
   "metadata": {},
   "source": [
    "# Extracting Water pixels from Image that clipped"
   ]
  },
  {
   "cell_type": "code",
   "execution_count": 594,
   "metadata": {},
   "outputs": [],
   "source": [
    "ndwi_threshold = 0  # Tresholding method is applied\n",
    "water_image = ndwi_image.gt(ndwi_threshold).selfMask()  # Masking is done"
   ]
  },
  {
   "cell_type": "code",
   "execution_count": 595,
   "metadata": {},
   "outputs": [],
   "source": [
    "Map.addLayer(water_image.clip(rectangle), {'palette': 'blue'}, 'Water image') #blue color is signed for water pixels."
   ]
  },
  {
   "cell_type": "code",
   "execution_count": 596,
   "metadata": {},
   "outputs": [
    {
     "data": {
      "text/plain": [
       "(TileLayer(base=True, max_zoom=19, min_zoom=1, options=['attribution', 'detect_retina', 'max_native_zoom', 'max_zoom', 'min_native_zoom', 'min_zoom', 'no_wrap', 'tile_size', 'tms']),\n",
       " TileLayer(attribution='Google', name='Google Maps', options=['attribution', 'detect_retina', 'max_native_zoom', 'max_zoom', 'min_native_zoom', 'min_zoom', 'no_wrap', 'tile_size', 'tms'], url='https://mt1.google.com/vt/lyrs=m&x={x}&y={y}&z={z}'),\n",
       " TileLayer(attribution='Google', name='Google Satellite', options=['attribution', 'detect_retina', 'max_native_zoom', 'max_zoom', 'min_native_zoom', 'min_zoom', 'no_wrap', 'tile_size', 'tms'], url='https://mt1.google.com/vt/lyrs=y&x={x}&y={y}&z={z}'),\n",
       " TileLayer(attribution='Google Earth Engine', name='image', options=['attribution', 'detect_retina', 'max_native_zoom', 'max_zoom', 'min_native_zoom', 'min_zoom', 'no_wrap', 'tile_size', 'tms'], url='https://earthengine.googleapis.com/v1alpha/projects/earthengine-legacy/maps/35a1f0bfc712b4ab202ede54b4364a3f-568b1c1317f962053a9e0a3ff8bea359/tiles/{z}/{x}/{y}'),\n",
       " TileLayer(attribution='Google Earth Engine', name='Drawn Features', opacity=0.5, options=['attribution', 'detect_retina', 'max_native_zoom', 'max_zoom', 'min_native_zoom', 'min_zoom', 'no_wrap', 'tile_size', 'tms'], url='https://earthengine.googleapis.com/v1alpha/projects/earthengine-legacy/maps/cbfebef4c68b03ab1b21962d07c8acdc-beea6c2a4c4bf2ec3a0066877d36e94b/tiles/{z}/{x}/{y}'),\n",
       " TileLayer(attribution='Google Earth Engine', name='NDWI image', options=['attribution', 'detect_retina', 'max_native_zoom', 'max_zoom', 'min_native_zoom', 'min_zoom', 'no_wrap', 'tile_size', 'tms'], url='https://earthengine.googleapis.com/v1alpha/projects/earthengine-legacy/maps/51322ab6ef4a965adec572d0a416dae6-6a5ea13e8755a8d59d9d7de78a916385/tiles/{z}/{x}/{y}'),\n",
       " TileLayer(attribution='Google Earth Engine', name='Water image', options=['attribution', 'detect_retina', 'max_native_zoom', 'max_zoom', 'min_native_zoom', 'min_zoom', 'no_wrap', 'tile_size', 'tms'], url='https://earthengine.googleapis.com/v1alpha/projects/earthengine-legacy/maps/b913c36d36b58c2778ed2448c4e9ac52-c33a13ac2abf538f013d53df048e5af4/tiles/{z}/{x}/{y}'))"
      ]
     },
     "execution_count": 596,
     "metadata": {},
     "output_type": "execute_result"
    }
   ],
   "source": [
    "Map.layers"
   ]
  },
  {
   "cell_type": "code",
   "execution_count": 597,
   "metadata": {},
   "outputs": [],
   "source": [
    "water_layer = Map.layers[-1]"
   ]
  },
  {
   "cell_type": "code",
   "execution_count": 598,
   "metadata": {},
   "outputs": [
    {
     "data": {
      "application/vnd.jupyter.widget-view+json": {
       "model_id": "c75b212ccdf148238e9734ba2ad6170d",
       "version_major": 2,
       "version_minor": 0
      },
      "text/plain": [
       "Box(children=(FloatSlider(value=1.0, description='opacity', max=1.0),))"
      ]
     },
     "metadata": {},
     "output_type": "display_data"
    }
   ],
   "source": [
    "water_layer.interact(opacity=(0.0,1.0,0.1)) #with this code, opacity of water pixels are now adjustable"
   ]
  },
  {
   "cell_type": "code",
   "execution_count": 599,
   "metadata": {
    "scrolled": false
   },
   "outputs": [
    {
     "data": {
      "application/vnd.jupyter.widget-view+json": {
       "model_id": "7142086c931943af87eb29cb053b68ce",
       "version_major": 2,
       "version_minor": 0
      },
      "text/plain": [
       "Map(bottom=49204.79998779297, center=[41.490474989030936, 35.36942231853624], controls=(WidgetControl(options=…"
      ]
     },
     "metadata": {},
     "output_type": "display_data"
    }
   ],
   "source": [
    "Map"
   ]
  },
  {
   "cell_type": "markdown",
   "metadata": {},
   "source": [
    "## Converting water pixels raster to vector from clipped area (Kızılırmak)\n",
    "For calculating the area for obtained year\n"
   ]
  },
  {
   "cell_type": "code",
   "execution_count": 600,
   "metadata": {},
   "outputs": [],
   "source": [
    "water_vector = water_image.clip(rectangle).reduceToVectors(scale=30, maxPixels=60000000) #raster to vector\n",
    "Map.addLayer(water_vector, {}, 'Water vector') #show to map"
   ]
  },
  {
   "cell_type": "code",
   "execution_count": 601,
   "metadata": {},
   "outputs": [],
   "source": [
    "kizilirmak = water_vector # defining vector area as Kızılırmak\n",
    "Map.addLayer(kizilirmak, {}, 'Kızılırmak') #show"
   ]
  },
  {
   "cell_type": "code",
   "execution_count": 602,
   "metadata": {},
   "outputs": [],
   "source": [
    "Map.addLayer(ee.Image().paint(kizilirmak, 0, 2), {'palette': 'blue'}, 'Kızılırmak Outline') #painting"
   ]
  },
  {
   "cell_type": "code",
   "execution_count": 603,
   "metadata": {},
   "outputs": [
    {
     "name": "stdout",
     "output_type": "stream",
     "text": [
      "Area = 162 km2\n"
     ]
    }
   ],
   "source": [
    "area = kizilirmak.geometry().area(1).divide(1e6).round().getInfo() #calculating area of Kızılırmak\n",
    "print(\"Area = {} km2\".format(area)) #printing area"
   ]
  },
  {
   "cell_type": "markdown",
   "metadata": {},
   "source": [
    "# Applying Calculating Process to chosen 2 different images\n",
    "\n",
    "For observing and calculating differences between two years of defined area (in this case Kızılırmak), we calculate the water pixels in km from two different Image and compare each other. "
   ]
  },
  {
   "cell_type": "code",
   "execution_count": 604,
   "metadata": {
    "scrolled": false
   },
   "outputs": [
    {
     "data": {
      "application/vnd.jupyter.widget-view+json": {
       "model_id": "09b38218c36f4bbd8fa385a909c01d39",
       "version_major": 2,
       "version_minor": 0
      },
      "text/plain": [
       "Map(center=[41, 35], controls=(WidgetControl(options=['position', 'transparent_bg'], widget=HBox(children=(Tog…"
      ]
     },
     "metadata": {},
     "output_type": "display_data"
    }
   ],
   "source": [
    "Map = geemap.Map(center=[41, 35], zoom=9)\n",
    "Map.add_basemap('HYBRID')\n",
    "Map"
   ]
  },
  {
   "cell_type": "markdown",
   "metadata": {},
   "source": [
    "First, Images with optimum cloudiness were obtained from USGS Landsat 8 Surface Reflectance Tier 1 images"
   ]
  },
  {
   "cell_type": "code",
   "execution_count": 605,
   "metadata": {},
   "outputs": [],
   "source": [
    "roi = ee.Geometry.Point(34.858907, 41.264053)\n",
    "start_date = '2015-01-01'\n",
    "end_date = '2019-12-31'\n",
    "cloud_threshold = 0.05\n",
    "ndwi_threshold = 0"
   ]
  },
  {
   "cell_type": "code",
   "execution_count": 606,
   "metadata": {},
   "outputs": [],
   "source": [
    "images = ee.ImageCollection('LANDSAT/LC08/C01/T1_SR') \\\n",
    "    .filterBounds(roi) \\\n",
    "    .filterDate(start_date, end_date) \\\n",
    "    .filterMetadata('CLOUD_COVER', 'less_than', cloud_threshold)"
   ]
  },
  {
   "cell_type": "code",
   "execution_count": 607,
   "metadata": {},
   "outputs": [
    {
     "name": "stdout",
     "output_type": "stream",
     "text": [
      "2\n"
     ]
    }
   ],
   "source": [
    "print(images.size().getInfo()) #learning how many images we have that meet the cloud cover criteria (in my case its 2)"
   ]
  },
  {
   "cell_type": "code",
   "execution_count": 608,
   "metadata": {},
   "outputs": [
    {
     "name": "stdout",
     "output_type": "stream",
     "text": [
      "['LANDSAT/LC08/C01/T1_SR/LC08_176031_20170713', 'LANDSAT/LC08/C01/T1_SR/LC08_176031_20191108']\n"
     ]
    }
   ],
   "source": [
    "print(images.aggregate_array('system:id').getInfo()) #learning system id of images and turning them into array for comparing easily"
   ]
  },
  {
   "cell_type": "code",
   "execution_count": 609,
   "metadata": {},
   "outputs": [
    {
     "name": "stdout",
     "output_type": "stream",
     "text": [
      "['2017-07-13', '2019-11-08']\n"
     ]
    }
   ],
   "source": [
    "dates = images.aggregate_array('system:time_start').map(lambda d: ee.Date(d).format('YYYY-MM-dd'))\n",
    "print(dates.getInfo()) #learning dates of Images and creating array (in my case its 2017-07-13 and 2019-11-08 )"
   ]
  },
  {
   "cell_type": "code",
   "execution_count": 610,
   "metadata": {},
   "outputs": [],
   "source": [
    "last_image = ee.Image.clip(images.toList(images.size()).get(1),rectangle) #clipping and getting second Image\n",
    "vis_params = {\n",
    "  'bands': ['B5', 'B4', 'B3'],\n",
    "  'min': 0,\n",
    "  'max': 6000,\n",
    "  'gamma': 1.4,\n",
    "}\n",
    "Map.addLayer(last_image, vis_params, 'First image') #showing first image that clipped according to defined area on map\n",
    "Map.centerObject(roi, 8)"
   ]
  },
  {
   "cell_type": "code",
   "execution_count": 611,
   "metadata": {},
   "outputs": [],
   "source": [
    "def extract_water(img): # extracting water pixels from images by tresholding from ndwi index, because of my images in array, i defined a function\n",
    "    \n",
    "    ndwi_image = img.normalizedDifference(['B3', 'B5'])\n",
    "    water_image = ndwi_image.gt(ndwi_threshold).selfMask()\n",
    "    return water_image.clip(rectangle)"
   ]
  },
  {
   "cell_type": "code",
   "execution_count": 612,
   "metadata": {},
   "outputs": [],
   "source": [
    "ndwi_images = images.map(extract_water) # applying ndwi index to chosen 2 images and getting extract water pixels"
   ]
  },
  {
   "cell_type": "code",
   "execution_count": 613,
   "metadata": {},
   "outputs": [
    {
     "name": "stdout",
     "output_type": "stream",
     "text": [
      "2\n"
     ]
    }
   ],
   "source": [
    "print(ndwi_images.size().getInfo()) # how many images do i have in ndwi index array ? For check"
   ]
  },
  {
   "cell_type": "code",
   "execution_count": 614,
   "metadata": {},
   "outputs": [
    {
     "name": "stdout",
     "output_type": "stream",
     "text": [
      "['2017-07-13', '2019-11-08']\n"
     ]
    }
   ],
   "source": [
    "dates2 = images.aggregate_array('system:time_start').map(lambda d: ee.Date(d).format('YYYY-MM-dd'))\n",
    "print(dates2.getInfo())"
   ]
  },
  {
   "cell_type": "code",
   "execution_count": 615,
   "metadata": {},
   "outputs": [],
   "source": [
    "last_ndwi_image = ee.Image.clip(ndwi_images.toList(ndwi_images.size()).get(1),rectangle)\n",
    "Map.addLayer(last_ndwi_image, {'palette': 'blue'}, 'Last NDWI') #For visualization for my extacting water pixels from image,the second image will be shown in the map"
   ]
  },
  {
   "cell_type": "code",
   "execution_count": 616,
   "metadata": {},
   "outputs": [],
   "source": [
    "occurrence = ndwi_images.sum().selfMask()\n",
    "Map.addLayer(occurrence.randomVisualizer(), {}, 'Water occurrence')"
   ]
  },
  {
   "cell_type": "code",
   "execution_count": 617,
   "metadata": {},
   "outputs": [],
   "source": [
    "def ras_to_vec(img):  # defining function to get vector from raster\n",
    "    vec = img.clip(rectangle).reduceToVectors(scale=30, maxPixels=60000000)\n",
    "    #vec = vec.filterBounds(roi)\n",
    "    return vec.set({'area': vec.geometry().area(1).divide(1e6).round()}) #defining are as km"
   ]
  },
  {
   "cell_type": "code",
   "execution_count": 618,
   "metadata": {},
   "outputs": [],
   "source": [
    "ndwi_vectors = ndwi_images.map(ras_to_vec) #turning images (that water pixels extracted) to vector"
   ]
  },
  {
   "cell_type": "code",
   "execution_count": 619,
   "metadata": {},
   "outputs": [
    {
     "name": "stdout",
     "output_type": "stream",
     "text": [
      "Area = [162, 157] km2\n"
     ]
    }
   ],
   "source": [
    "areas = ndwi_vectors.aggregate_array('area') # calculating the water value in km at each vector value of images\n",
    "print(\"Area = {} km2\".format(areas.getInfo()))"
   ]
  },
  {
   "cell_type": "code",
   "execution_count": 620,
   "metadata": {},
   "outputs": [
    {
     "data": {
      "image/png": "[encoded data removed]",
      "text/plain": [
       "<Figure size 864x432 with 1 Axes>"
      ]
     },
     "metadata": {
      "needs_background": "light"
     },
     "output_type": "display_data"
    }
   ],
   "source": [
    "import matplotlib.pyplot as plt\n",
    "%matplotlib inline \n",
    "# %matplotlib qt \n",
    "\n",
    "fig= plt.figure(figsize=(12,6)) #showing the difference of Kızılırmak in terms of km2 between to different years\n",
    "\n",
    "x = dates.getInfo()\n",
    "y = areas.getInfo()\n",
    "\n",
    "plt.plot(x, y, marker='o')\n",
    "plt.xlabel('Date')\n",
    "plt.ylabel('Kızılırmak (km2)')\n",
    "plt.show()"
   ]
  },
  {
   "cell_type": "markdown",
   "metadata": {},
   "source": [
    "# Created a split-panel map to visualize results. The change between 2017 and 2019 can be easily observed by running the code below. \n",
    "On the left is the extracted water pixels from the images, on the right is the False color band combinations of the Images."
   ]
  },
  {
   "cell_type": "code",
   "execution_count": 621,
   "metadata": {},
   "outputs": [],
   "source": [
    "water_images = ndwi_images.map(lambda img: img.selfMask())\n",
    "landsat_images = images"
   ]
  },
  {
   "cell_type": "code",
   "execution_count": 622,
   "metadata": {},
   "outputs": [],
   "source": [
    "water_layer_names = ['Water ' + str(date) for date in x]"
   ]
  },
  {
   "cell_type": "code",
   "execution_count": 623,
   "metadata": {},
   "outputs": [],
   "source": [
    "landsat_layer_names = ['Landsat ' + str(date) for date in x]"
   ]
  },
  {
   "cell_type": "code",
   "execution_count": 624,
   "metadata": {},
   "outputs": [],
   "source": [
    "water_vis = {\n",
    "    'palette': 'blue'\n",
    "}\n",
    "\n",
    "landsat_vis = {\n",
    "  'bands': ['B5', 'B6', 'B4'],\n",
    "  'min': 0,\n",
    "  'max': 6000,\n",
    "  'gamma': 1.4,\n",
    "}"
   ]
  },
  {
   "cell_type": "code",
   "execution_count": 625,
   "metadata": {
    "scrolled": true
   },
   "outputs": [
    {
     "data": {
      "application/vnd.jupyter.widget-view+json": {
       "model_id": "00bf547cc3df42cb9fbf78bb88f40a94",
       "version_major": 2,
       "version_minor": 0
      },
      "text/plain": [
       "Map(center=[41.264053, 34.858906999999995], controls=(WidgetControl(options=['position', 'transparent_bg'], wi…"
      ]
     },
     "metadata": {},
     "output_type": "display_data"
    }
   ],
   "source": [
    "Map = geemap.Map()\n",
    "Map.ts_inspector(left_ts=water_images, right_ts=landsat_images, left_names=water_layer_names, right_names=landsat_layer_names, left_vis=water_vis, right_vis=landsat_vis)\n",
    "Map.centerObject(roi, zoom=8)\n",
    "Map"
   ]
  },
  {
   "cell_type": "markdown",
   "metadata": {},
   "source": [
    "# Exporting results to Google Drive"
   ]
  },
  {
   "cell_type": "code",
   "execution_count": 626,
   "metadata": {},
   "outputs": [
    {
     "name": "stdout",
     "output_type": "stream",
     "text": [
      "Total number of images: 2\n",
      "\n",
      "Exporting LC08_176031_20170713 ...\n",
      "Exporting LC08_176031_20191108 ...\n"
     ]
    }
   ],
   "source": [
    "geemap.ee_export_image_collection_to_drive(water_images, folder='export', scale=90)"
   ]
  },
  {
   "cell_type": "code",
   "execution_count": 627,
   "metadata": {},
   "outputs": [
    {
     "name": "stdout",
     "output_type": "stream",
     "text": [
      "Exporting water_occurrence ...\n"
     ]
    }
   ],
   "source": [
    "geemap.ee_export_image_to_drive(occurrence.toInt(), description='water_occurrence', folder='export', region=first_ndwi_image\n",
    ".geometry(), scale=90)"
   ]
  },
  {
   "cell_type": "code",
   "execution_count": null,
   "metadata": {},
   "outputs": [],
   "source": []
  }
 ],
 "metadata": {
  "kernelspec": {
   "display_name": "Python 3",
   "language": "python",
   "name": "python3"
  },
  "language_info": {
   "codemirror_mode": {
    "name": "ipython",
    "version": 3
   },
   "file_extension": ".py",
   "mimetype": "text/x-python",
   "name": "python",
   "nbconvert_exporter": "python",
   "pygments_lexer": "ipython3",
   "version": "3.8.5"
  }
 },
 "nbformat": 4,
 "nbformat_minor": 4
}
